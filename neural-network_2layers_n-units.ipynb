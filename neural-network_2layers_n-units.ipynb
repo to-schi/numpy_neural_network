{
 "cells": [
  {
   "cell_type": "markdown",
   "metadata": {},
   "source": [
    "# Artifcial Neural Network of 2 Hidden Layers made with Numpy"
   ]
  },
  {
   "cell_type": "markdown",
   "metadata": {},
   "source": [
    "![title](./img/artificial_neural_network_kl.png)"
   ]
  },
  {
   "cell_type": "code",
   "execution_count": 1,
   "metadata": {},
   "outputs": [],
   "source": [
    "import matplotlib.pyplot as plt\n",
    "import numpy as np\n",
    "import random\n",
    "from tensorflow import math"
   ]
  },
  {
   "cell_type": "markdown",
   "metadata": {},
   "source": [
    "### Load example-data"
   ]
  },
  {
   "cell_type": "code",
   "execution_count": 2,
   "metadata": {},
   "outputs": [],
   "source": [
    "from sklearn.datasets import make_moons\n",
    "X,y = make_moons(n_samples = 50, noise = 0.2, random_state=42)"
   ]
  },
  {
   "cell_type": "code",
   "execution_count": 3,
   "metadata": {},
   "outputs": [
    {
     "data": {
      "text/plain": [
       "<matplotlib.collections.PathCollection at 0x1a64e3fdfa0>"
      ]
     },
     "execution_count": 3,
     "metadata": {},
     "output_type": "execute_result"
    },
    {
     "data": {
      "image/png": "[encoded data removed]",
      "text/plain": [
       "<Figure size 576x432 with 1 Axes>"
      ]
     },
     "metadata": {
      "needs_background": "light"
     },
     "output_type": "display_data"
    }
   ],
   "source": [
    "plt.figure(figsize = (8,6))\n",
    "plt.scatter(X[:,0], X[:,1], c = y)"
   ]
  },
  {
   "cell_type": "markdown",
   "metadata": {},
   "source": [
    "### Add Bias"
   ]
  },
  {
   "cell_type": "code",
   "execution_count": 4,
   "metadata": {},
   "outputs": [],
   "source": [
    "def add_bias(arr):\n",
    "    arr = np.hstack([arr,np.ones((arr.shape[0], 1))]) \n",
    "    return arr"
   ]
  },
  {
   "cell_type": "code",
   "execution_count": 5,
   "metadata": {},
   "outputs": [],
   "source": [
    "X = add_bias(X)\n"
   ]
  },
  {
   "cell_type": "code",
   "execution_count": 6,
   "metadata": {},
   "outputs": [
    {
     "data": {
      "text/plain": [
       "array([[-0.15856989,  0.98480618,  1.        ],\n",
       "       [ 1.10900374, -0.62160223,  1.        ],\n",
       "       [ 0.39641523,  0.20740869,  1.        ],\n",
       "       [ 1.79239122,  0.07511293,  1.        ],\n",
       "       [-0.84739307,  0.71154296,  1.        ],\n",
       "       [ 1.90209657,  0.67432213,  1.        ],\n",
       "       [ 0.0731551 ,  0.09079042,  1.        ],\n",
       "       [-0.43566685,  0.29122072,  1.        ],\n",
       "       [ 0.42577731, -0.22851359,  1.        ],\n",
       "       [-0.64418143,  0.24144478,  1.        ],\n",
       "       [ 0.11289285,  1.00510013,  1.        ],\n",
       "       [ 0.96066405,  0.63183812,  1.        ],\n",
       "       [ 1.46814927, -0.28580296,  1.        ],\n",
       "       [ 0.5192833 ,  0.94984582,  1.        ],\n",
       "       [ 0.73327397,  0.17310931,  1.        ],\n",
       "       [ 0.33197143,  0.43375035,  1.        ],\n",
       "       [ 1.62726102, -0.54736954,  1.        ],\n",
       "       [ 2.01908805,  0.37804882,  1.        ],\n",
       "       [ 2.00824323,  0.36058988,  1.        ],\n",
       "       [-0.56195047,  0.90148197,  1.        ],\n",
       "       [ 0.67647169,  0.69909987,  1.        ],\n",
       "       [-0.30999892,  1.2113287 ,  1.        ],\n",
       "       [-0.90842298, -0.33685748,  1.        ],\n",
       "       [ 0.68268561, -0.44010332,  1.        ],\n",
       "       [ 0.38645217, -0.05988231,  1.        ],\n",
       "       [ 0.84405962, -0.16877927,  1.        ],\n",
       "       [ 1.76324657, -0.30187296,  1.        ],\n",
       "       [ 0.06417199,  0.2184967 ,  1.        ],\n",
       "       [ 1.02670564, -0.57104358,  1.        ],\n",
       "       [ 0.63694378,  0.69355004,  1.        ],\n",
       "       [ 0.30851562,  0.4574452 ,  1.        ],\n",
       "       [ 0.45511029,  1.15619148,  1.        ],\n",
       "       [ 0.92808566, -0.31211878,  1.        ],\n",
       "       [ 0.86938046,  0.06729301,  1.        ],\n",
       "       [-1.22036438,  0.33691393,  1.        ],\n",
       "       [ 1.15845408,  0.21688056,  1.        ],\n",
       "       [ 1.5522982 , -0.27906241,  1.        ],\n",
       "       [ 0.88599761, -0.51707875,  1.        ],\n",
       "       [-0.82146062, -0.13173865,  1.        ],\n",
       "       [ 1.20862244, -0.52520818,  1.        ],\n",
       "       [-0.00317109,  1.55465851,  1.        ],\n",
       "       [-1.18517899,  0.44179591,  1.        ],\n",
       "       [-0.84031891,  0.60434928,  1.        ],\n",
       "       [ 2.06026456,  0.20829662,  1.        ],\n",
       "       [-0.99857307,  0.47070544,  1.        ],\n",
       "       [ 0.43955803,  0.62885547,  1.        ],\n",
       "       [ 1.82610683, -0.09235596,  1.        ],\n",
       "       [-0.34717225,  0.94909281,  1.        ],\n",
       "       [ 0.32352368, -0.16797921,  1.        ],\n",
       "       [ 1.19813072, -0.09653062,  1.        ]])"
      ]
     },
     "execution_count": 6,
     "metadata": {},
     "output_type": "execute_result"
    }
   ],
   "source": [
    "X"
   ]
  },
  {
   "cell_type": "markdown",
   "metadata": {},
   "source": [
    "### Define an activation function"
   ]
  },
  {
   "cell_type": "code",
   "execution_count": 7,
   "metadata": {},
   "outputs": [],
   "source": [
    "def sigmoid(X):\n",
    "    s = 1/(1+np.exp(-X))\n",
    "    return s\n",
    "\n",
    "def tf_sig(x):\n",
    "    x = math.sigmoid(x)\n",
    "    return np.array(x)\n",
    "\n",
    "def sigmoid_deriv(X):\n",
    "   \"\"\"derivative of sigmoid with respect to X\"\"\"\n",
    "   return sigmoid(X) * (1-sigmoid(X))"
   ]
  },
  {
   "cell_type": "code",
   "execution_count": 8,
   "metadata": {},
   "outputs": [],
   "source": [
    "def relu(x):\n",
    "    return x * (x > 0)\n",
    "\n",
    "def relu_deriv(x):\n",
    "    return 1. * (x > 0)"
   ]
  },
  {
   "cell_type": "code",
   "execution_count": 9,
   "metadata": {},
   "outputs": [
    {
     "data": {
      "image/png": "[encoded data removed]",
      "text/plain": [
       "<Figure size 432x288 with 1 Axes>"
      ]
     },
     "metadata": {
      "needs_background": "light"
     },
     "output_type": "display_data"
    }
   ],
   "source": [
    "x_data = np.linspace(-6, 6, 100)\n",
    "y_data = relu(x_data)\n",
    "dy_data = relu_deriv(x_data)\n",
    "\n",
    "plt.plot(x_data, y_data, x_data, dy_data)\n",
    "plt.title('relu Activation Function & Derivative')\n",
    "plt.legend(['relu', 'relu_deriv'])\n",
    "plt.grid()\n",
    "plt.show()\n"
   ]
  },
  {
   "cell_type": "code",
   "execution_count": 10,
   "metadata": {},
   "outputs": [],
   "source": [
    "def leaky_relu(x, alpha=0.01):\n",
    "    return np.where(x > 0, x, x * alpha)\n",
    "\n",
    "\n",
    "def leaky_relu_deriv(x, alpha=0.01):\n",
    "    dx = np.ones_like(x)\n",
    "    dx[x < 0] = alpha\n",
    "    return dx\n"
   ]
  },
  {
   "cell_type": "code",
   "execution_count": 11,
   "metadata": {},
   "outputs": [
    {
     "data": {
      "image/png": "[encoded data removed]",
      "text/plain": [
       "<Figure size 432x288 with 1 Axes>"
      ]
     },
     "metadata": {
      "needs_background": "light"
     },
     "output_type": "display_data"
    }
   ],
   "source": [
    "x_data = np.linspace(-6, 6, 100)\n",
    "y_data = leaky_relu(x_data)\n",
    "dy_data = leaky_relu_deriv(x_data)\n",
    "\n",
    "plt.plot(x_data, y_data, x_data, dy_data)\n",
    "plt.title('leaky relu Activation Function & Derivative')\n",
    "plt.legend(['leaky_relu', 'leaky_relu_deriv'])\n",
    "plt.grid()\n",
    "plt.show()\n"
   ]
  },
  {
   "cell_type": "code",
   "execution_count": 12,
   "metadata": {},
   "outputs": [],
   "source": [
    "def tanh(x):\n",
    "  return (np.exp(x) - np.exp(-x))/(np.exp(x) + np.exp(-x))\n",
    "\n",
    "\n",
    "def tanh_deriv(x):\n",
    "  return 1 - tanh(x) * tanh(x)\n"
   ]
  },
  {
   "cell_type": "code",
   "execution_count": 13,
   "metadata": {},
   "outputs": [
    {
     "data": {
      "image/png": "[encoded data removed]",
      "text/plain": [
       "<Figure size 432x288 with 1 Axes>"
      ]
     },
     "metadata": {
      "needs_background": "light"
     },
     "output_type": "display_data"
    }
   ],
   "source": [
    "# Generating data for Graph\n",
    "x_data = np.linspace(-6, 6, 100)\n",
    "y_data = tanh(x_data)\n",
    "dy_data = tanh_deriv(x_data)\n",
    "\n",
    "plt.plot(x_data, y_data, x_data, dy_data)\n",
    "plt.title('tanh Activation Function & Derivative')\n",
    "plt.legend(['tanh', 'tanh_deriv'])\n",
    "plt.grid()\n",
    "plt.show()"
   ]
  },
  {
   "cell_type": "markdown",
   "metadata": {},
   "source": [
    "##### Test sigmoid function with the following code"
   ]
  },
  {
   "cell_type": "code",
   "execution_count": 14,
   "metadata": {},
   "outputs": [],
   "source": [
    "a = np.array([-10.0, -1.0, 0.0, 1.0, 10.0])\n",
    "expected = np.array([0.0, 0.27, 0.5, 0.73, 1.0])\n",
    "assert np.all(sigmoid(a).round(2) == expected)"
   ]
  },
  {
   "cell_type": "markdown",
   "metadata": {},
   "source": [
    "### Weights\n",
    "Initialized randomly according to the number of neurons with bias"
   ]
  },
  {
   "cell_type": "code",
   "execution_count": 15,
   "metadata": {},
   "outputs": [],
   "source": [
    "neurons1 = 4\n",
    "neurons2 = 4\n",
    "weights_h1 = np.random.normal(size=(X.shape[1],neurons1))\n",
    "weights_h2 = np.random.normal(size=(neurons1+1, neurons2))\n",
    "weights_o = np.random.normal(size=(neurons2+1,1))\n",
    "activationH1 = tanh\n",
    "derivationH1 = tanh_deriv\n",
    "activationH2 = tanh\n",
    "derivationH2 = tanh_deriv\n",
    "activationO = sigmoid\n",
    "derivationO = sigmoid_deriv\n"
   ]
  },
  {
   "cell_type": "code",
   "execution_count": 16,
   "metadata": {},
   "outputs": [
    {
     "data": {
      "text/plain": [
       "((50, 3), (3, 4), (5, 4), (5, 1))"
      ]
     },
     "execution_count": 16,
     "metadata": {},
     "output_type": "execute_result"
    }
   ],
   "source": [
    "X.shape, weights_h1.shape, weights_h2.shape, weights_o.shape\n"
   ]
  },
  {
   "cell_type": "markdown",
   "metadata": {},
   "source": [
    "### Forward propagation with two hidden layers"
   ]
  },
  {
   "cell_type": "code",
   "execution_count": 17,
   "metadata": {},
   "outputs": [],
   "source": [
    "def feed_forward(X, weights):\n",
    "    \"\"\"\n",
    "    1. Calculate the dot product of X\n",
    "       and the weights of the first layer.\n",
    "    2. Apply the sigmoid function on the result.\n",
    "    3. Append an extra column of ones to the result (i.e. the bias).\n",
    "    4. Calculate the dot product of the previous step\n",
    "       with the weights of the next (i.e. outer) layer.\n",
    "    5. Apply the sigmoid function on the result.\n",
    "    6. Return all intermediate results (i.e. anything that is outputted\n",
    "       by an activation function).\n",
    "    \"\"\"\n",
    "\n",
    "    weighted_sum = np.dot(X, weights[0])\n",
    "    output_H1 = activationH1(weighted_sum)\n",
    "\n",
    "    input_H2 = add_bias(output_H1)\n",
    "    weighted_sum = np.dot(input_H2, weights[1])\n",
    "    output_H2 = activationH2(weighted_sum)\n",
    "    \n",
    "    input_out = add_bias(output_H2)\n",
    "    weighted_sum = np.dot(input_out, weights[2])\n",
    "    output = activationO(weighted_sum)\n",
    "    \n",
    "    return output_H1, output_H2, output"
   ]
  },
  {
   "cell_type": "markdown",
   "metadata": {},
   "source": [
    "### Assertion Test"
   ]
  },
  {
   "cell_type": "code",
   "execution_count": 18,
   "metadata": {},
   "outputs": [],
   "source": [
    "out1, out2, out3 = feed_forward(X, [weights_h1, weights_h2, weights_o])"
   ]
  },
  {
   "cell_type": "code",
   "execution_count": 19,
   "metadata": {},
   "outputs": [],
   "source": [
    "assert out1.shape == (50, neurons1)\n",
    "assert out2.shape == (50, neurons2)\n",
    "assert out3.shape == (50, 1)"
   ]
  },
  {
   "cell_type": "markdown",
   "metadata": {},
   "source": [
    "### Calculating Accuracy\n",
    "- flatten both ytrue and ypred (so that they're both (50,) arrays)\n",
    "- round the ypred (either up to 1 or down to 0)\n",
    "- then compare them to eachother to get a boolean array (True where the values are the same, False where they are not)\n",
    "- sum the boolean array and divide by the length (i.e. take the mean)"
   ]
  },
  {
   "cell_type": "code",
   "execution_count": 20,
   "metadata": {},
   "outputs": [],
   "source": [
    "def get_accuracy(ypred,ytrue):\n",
    "    acc = sum(ytrue.flatten() == ypred.flatten().round().astype(np.int64))\n",
    "    return acc/len(ytrue)"
   ]
  },
  {
   "cell_type": "markdown",
   "metadata": {},
   "source": [
    "## Backpropagation\n",
    "Use gradient descent to fit the weights of the whole network."
   ]
  },
  {
   "cell_type": "markdown",
   "metadata": {},
   "source": [
    "#### Loss function"
   ]
  },
  {
   "cell_type": "code",
   "execution_count": 21,
   "metadata": {},
   "outputs": [],
   "source": [
    "def log_loss(ytrue, ypred):\n",
    "    if ypred == 0 or ypred ==1:\n",
    "        ypred = ypred + 0.0001 \n",
    "    loss = -(ytrue*np.log(ypred) + (1-ytrue)*np.log(1-ypred))\n",
    "    return loss"
   ]
  },
  {
   "cell_type": "markdown",
   "metadata": {},
   "source": [
    "#### Gradient (derivative) of the loss function"
   ]
  },
  {
   "cell_type": "code",
   "execution_count": 22,
   "metadata": {},
   "outputs": [],
   "source": [
    "def loss_gradient(ytrue, ypred):\n",
    "    new_ypred = []\n",
    "    for n in ypred:\n",
    "        if n == 0 or n ==1:\n",
    "            n = n + 0.00001 \n",
    "        new_ypred.append(n)\n",
    "    new_ypred_array = np.array(new_ypred)\n",
    "    loss = -ytrue/new_ypred_array + (1-ytrue)/(1-new_ypred_array)\n",
    "    return loss\n"
   ]
  },
  {
   "cell_type": "code",
   "execution_count": 23,
   "metadata": {},
   "outputs": [],
   "source": [
    "def derivative_Cross_Entropy(y, y_hat):\n",
    "    for i in y:\n",
    "        if i == 1:\n",
    "            return -1/y_hat\n",
    "        else:\n",
    "            return 1 / (1 - y_hat)"
   ]
  },
  {
   "cell_type": "code",
   "execution_count": 24,
   "metadata": {},
   "outputs": [],
   "source": [
    "def delta_cross_entropy(y_true, y_pred):\n",
    "    \"\"\"\n",
    "    X is the output from fully connected layer (num_examples x num_classes)\n",
    "    y is labels (num_examples x 1)\n",
    "    \tNote that y is not one-hot encoded vector. \n",
    "    \tIt can be computed as y.argmax(axis=1) from one-hot encoded vectors of labels if required.\n",
    "    \"\"\"\n",
    "    y = y_true.argmax(axis=1)\n",
    "    m = y.shape[0]\n",
    "    grad = activationO(y_pred)\n",
    "    grad[range(m), y] -= 1\n",
    "    grad = grad/m\n",
    "    return grad\n"
   ]
  },
  {
   "cell_type": "markdown",
   "metadata": {},
   "source": [
    "#### Derivative of the sigmoid function"
   ]
  },
  {
   "cell_type": "code",
   "execution_count": 25,
   "metadata": {},
   "outputs": [],
   "source": [
    "def sigmoid_deriv(X):\n",
    "   \"\"\"derivative of sigmoid with respect to X\"\"\"\n",
    "   return sigmoid(X) * (1-sigmoid(X))"
   ]
  },
  {
   "cell_type": "markdown",
   "metadata": {},
   "source": [
    "### Backpropagation algorithm from scratch"
   ]
  },
  {
   "cell_type": "code",
   "execution_count": 26,
   "metadata": {},
   "outputs": [],
   "source": [
    "def backprop(weights, output1, output2, output3, ytrue, X_input, LR1, LR2, LR3):  \n",
    "\n",
    "    wH1 = weights[0]\n",
    "    wH2 = weights[1]\n",
    "    wO = weights[2]\n",
    "    \n",
    "    ytrue = ytrue.reshape(-1, 1) \n",
    "    error = loss_gradient(ytrue, output3)\n",
    "\n",
    "    sig_deriv = derivationO(output3)\n",
    "    y_grad = sig_deriv * error\n",
    "\n",
    "    hidden2_out_with_bias = np.hstack([output2,np.ones((output2.shape[0],1))])\n",
    "    \n",
    "    delta_wO = np.dot(-y_grad.transpose(), hidden2_out_with_bias ) * LR3\n",
    "    wO_new = wO + delta_wO.transpose()\n",
    "\n",
    "    sig_deriv_2 = derivationH2(output2)\n",
    "    H2_grad = sig_deriv_2 * np.dot(y_grad, wO[:neurons2].transpose())\n",
    "    \n",
    "    hidden1_out_with_bias = np.hstack([output1, np.ones((output1.shape[0], 1))])\n",
    "\n",
    "    delta_wH2 = np.dot(-H2_grad.transpose(), hidden1_out_with_bias) * LR2\n",
    "    wH2_new = wH2 + delta_wH2.transpose()\n",
    "\n",
    "    sig_deriv_3 = derivationH1(output1)\n",
    "    H1_grad = sig_deriv_3 * np.dot(H2_grad, wH2[:neurons1].transpose())\n",
    "\n",
    "    delta_wH1 = np.dot(-H1_grad.transpose(), X_input) * LR1\n",
    "    wH1_new = wH1 + delta_wH1.transpose()\n",
    "\n",
    "    return wH1_new, wH2_new, wO_new"
   ]
  },
  {
   "cell_type": "code",
   "execution_count": 27,
   "metadata": {
    "scrolled": true
   },
   "outputs": [
    {
     "name": "stdout",
     "output_type": "stream",
     "text": [
      "(3, 4) (5, 4) (5, 1)\n"
     ]
    }
   ],
   "source": [
    "ACC_VEC = []\n",
    "\n",
    "weights = [weights_h1, weights_h2, weights_o]\n",
    "for i in range(50):\n",
    "    out1, out2, out3 =  feed_forward(X, weights)\n",
    "    ACC_VEC.append(get_accuracy(out3,y))\n",
    "    new_weights = backprop(weights,out1,out2,out3,y,X, LR1=0.5, LR2=0.05, LR3=0.001)\n",
    "    weights = new_weights\n",
    "print(weights[0].shape, weights[1].shape, weights[2].shape)"
   ]
  },
  {
   "cell_type": "code",
   "execution_count": 28,
   "metadata": {},
   "outputs": [
    {
     "data": {
      "text/plain": [
       "0.86"
      ]
     },
     "execution_count": 28,
     "metadata": {},
     "output_type": "execute_result"
    }
   ],
   "source": [
    "max(ACC_VEC)"
   ]
  },
  {
   "cell_type": "code",
   "execution_count": 29,
   "metadata": {},
   "outputs": [
    {
     "data": {
      "text/plain": [
       "Text(0, 0.5, 'accuracy')"
      ]
     },
     "execution_count": 29,
     "metadata": {},
     "output_type": "execute_result"
    },
    {
     "data": {
      "image/png": "[encoded data removed]",
      "text/plain": [
       "<Figure size 432x288 with 1 Axes>"
      ]
     },
     "metadata": {
      "needs_background": "light"
     },
     "output_type": "display_data"
    }
   ],
   "source": [
    "plt.plot(ACC_VEC)\n",
    "plt.xlabel('epochs')\n",
    "plt.ylabel('accuracy')"
   ]
  },
  {
   "cell_type": "code",
   "execution_count": 30,
   "metadata": {},
   "outputs": [
    {
     "data": {
      "text/plain": [
       "<matplotlib.colorbar.Colorbar at 0x1a64f6e3fa0>"
      ]
     },
     "execution_count": 30,
     "metadata": {},
     "output_type": "execute_result"
    },
    {
     "data": {
      "image/png": "[encoded data removed]",
      "text/plain": [
       "<Figure size 576x432 with 2 Axes>"
      ]
     },
     "metadata": {
      "needs_background": "light"
     },
     "output_type": "display_data"
    }
   ],
   "source": [
    "plt.figure(figsize = (8,6))\n",
    "plt.scatter(X[:,0], X[:,1], c = out3)\n",
    "plt.colorbar()"
   ]
  }
 ],
 "metadata": {
  "kernelspec": {
   "display_name": "Python 3",
   "language": "python",
   "name": "python3"
  },
  "language_info": {
   "codemirror_mode": {
    "name": "ipython",
    "version": 3
   },
   "file_extension": ".py",
   "mimetype": "text/x-python",
   "name": "python",
   "nbconvert_exporter": "python",
   "pygments_lexer": "ipython3",
   "version": "3.9.7"
  }
 },
 "nbformat": 4,
 "nbformat_minor": 4
}
